{
 "cells": [
  {
   "cell_type": "code",
   "execution_count": 5,
   "id": "ce7b9a51",
   "metadata": {},
   "outputs": [
    {
     "name": "stdout",
     "output_type": "stream",
     "text": [
      "string=write write write all the number from from from 1 to 100\n",
      "6\n"
     ]
    }
   ],
   "source": [
    "s=input(\"string=\")\n",
    "l=s.split(\" \")\n",
    "l1=list(set(l))\n",
    "l2=[]\n",
    "for i in l1:\n",
    "    a=l.count(i)\n",
    "    l2.append(a)\n",
    "a=max(l2)\n",
    "l4=[]\n",
    "for i in range(0,len(l2)):\n",
    "    if l2[i]==a:\n",
    "        l4.append(l[i])\n",
    "l5=[]\n",
    "for i in l4:\n",
    "    l5.append(len(i))\n",
    "#x=max(l5)\n",
    "print(f\"{max(l5)}\")"
   ]
  },
  {
   "cell_type": "code",
   "execution_count": null,
   "id": "f8be15fa",
   "metadata": {},
   "outputs": [],
   "source": []
  }
 ],
 "metadata": {
  "kernelspec": {
   "display_name": "Python 3 (ipykernel)",
   "language": "python",
   "name": "python3"
  },
  "language_info": {
   "codemirror_mode": {
    "name": "ipython",
    "version": 3
   },
   "file_extension": ".py",
   "mimetype": "text/x-python",
   "name": "python",
   "nbconvert_exporter": "python",
   "pygments_lexer": "ipython3",
   "version": "3.10.8"
  }
 },
 "nbformat": 4,
 "nbformat_minor": 5
}
